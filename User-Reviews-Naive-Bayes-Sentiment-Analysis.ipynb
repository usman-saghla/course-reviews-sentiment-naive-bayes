{
 "cells": [
  {
   "cell_type": "code",
   "execution_count": null,
   "metadata": {},
   "outputs": [
    {
     "name": "stdout",
     "output_type": "stream",
     "text": [
      "                             course_name  \\\n",
      "0               Advanced Microsoft Excel   \n",
      "1     Agile and Scrum Project Management   \n",
      "2   AI Applications for Business Success   \n",
      "3   AI Applications for Business Success   \n",
      "4  Building a 3-Statement Model in Excel   \n",
      "\n",
      "                                        lecture_name review_rating  \\\n",
      "0            F1 to F12 - Using Excel's Function Keys             5   \n",
      "1                   Agile vs Waterfall - Conclusions             1   \n",
      "2                          Correlation vs. Causation             3   \n",
      "3                          Correlation vs. Causation             3   \n",
      "4  Calculating Cash Flows and Completing the Mode...             5   \n",
      "\n",
      "                                      review_comment  \n",
      "0                                           perfect   \n",
      "1               The SCRUM chapter are full of errors  \n",
      "2                Bad quality of audio and narrative   \n",
      "3                I need documentation about lecture.  \n",
      "4  Great course! Ned has a talent for explaining ...  \n"
     ]
    }
   ],
   "source": [
    "import csv\n",
    "import pandas as pd\n",
    "import seaborn as sns\n",
    "\n",
    "# Path to your csv file\n",
    "file_path = 'user-courses-review-test-set.csv'\n",
    "\n",
    "# A list to hold rows of data\n",
    "data_list = []\n",
    "\n",
    "# Number of columns expected per row\n",
    "EXPECTED_COLUMNS = 4  # Change this to the number of columns you expect\n",
    "\n",
    "# Open the file and read each row\n",
    "with open(file_path, mode='r', newline='', encoding='utf-8') as file:\n",
    "    reader = csv.reader(file)\n",
    "    \n",
    "    # Optionally, capture the header (first row) if it exists\n",
    "    header = next(reader)\n",
    "    \n",
    "    # Read each row\n",
    "    for row in reader:\n",
    "        # Check if the row has the expected number of columns\n",
    "        if len(row) == EXPECTED_COLUMNS:\n",
    "            # If the row is as expected, append it to the list\n",
    "            data_list.append(row)\n",
    "        else:\n",
    "            # If not, handle it: skip, log, etc.\n",
    "            print(f\"Skipping row {reader.line_num}: {row}\")\n",
    "\n",
    "# Convert the list of data into a pandas DataFrame\n",
    "data = pd.DataFrame(data_list, columns=header)  # Include columns parameter if header was captured\n",
    "\n",
    "# Show the first few rows of the dataframe\n",
    "print(data.head())"
   ]
  },
  {
   "cell_type": "code",
   "execution_count": 5,
   "metadata": {},
   "outputs": [
    {
     "data": {
      "text/plain": [
       "(course_name       object\n",
       " lecture_name      object\n",
       " review_rating     object\n",
       " review_comment    object\n",
       " dtype: object,\n",
       " course_name       object\n",
       " lecture_name      object\n",
       " review_rating      int64\n",
       " review_comment    object\n",
       " dtype: object,\n",
       " course_name       0\n",
       " lecture_name      0\n",
       " review_rating     0\n",
       " review_comment    0\n",
       " dtype: int64)"
      ]
     },
     "execution_count": 5,
     "metadata": {},
     "output_type": "execute_result"
    }
   ],
   "source": [
    "# Check data types of the columns\n",
    "data_types = data.dtypes\n",
    "\n",
    "# Convert 'review_rating' to a numeric type if it's currently an object (string)\n",
    "if data['review_rating'].dtype == 'object':\n",
    "    # Force invalid parsing to NaN so we can find and analyze these rows later\n",
    "    data['review_rating'] = pd.to_numeric(data['review_rating'], errors='coerce')\n",
    "\n",
    "# Check the new data types and find the number of missing values after conversion\n",
    "new_data_types = data.dtypes\n",
    "missing_values = data.isnull().sum()\n",
    "\n",
    "data_types, new_data_types, missing_values\n"
   ]
  },
  {
   "cell_type": "code",
   "execution_count": 6,
   "metadata": {},
   "outputs": [
    {
     "data": {
      "image/png": "[encoded data removed]",
      "text/plain": [
       "<Figure size 1000x600 with 1 Axes>"
      ]
     },
     "metadata": {},
     "output_type": "display_data"
    },
    {
     "data": {
      "text/plain": [
       "count    154.000000\n",
       "mean       4.642857\n",
       "std        0.805849\n",
       "min        1.000000\n",
       "25%        5.000000\n",
       "50%        5.000000\n",
       "75%        5.000000\n",
       "max        5.000000\n",
       "Name: review_rating, dtype: float64"
      ]
     },
     "execution_count": 6,
     "metadata": {},
     "output_type": "execute_result"
    }
   ],
   "source": [
    "import matplotlib.pyplot as plt\n",
    "\n",
    "# Summary statistics for 'review_rating'\n",
    "review_rating_stats = data['review_rating'].describe()\n",
    "\n",
    "# Distribution of 'review_rating'\n",
    "plt.figure(figsize=(10, 6))\n",
    "plt.hist(data['review_rating'].dropna(), bins=range(1, 7), align='left', rwidth=0.9, color='skyblue', edgecolor='gray')\n",
    "plt.title('Distribution of Review Ratings')\n",
    "plt.xlabel('Rating')\n",
    "plt.ylabel('Frequency')\n",
    "plt.xticks(range(1, 6))\n",
    "plt.grid(axis='y')\n",
    "plt.show()\n",
    "\n",
    "review_rating_stats\n"
   ]
  },
  {
   "cell_type": "code",
   "execution_count": 7,
   "metadata": {},
   "outputs": [
    {
     "data": {
      "text/plain": [
       "((154, 4),\n",
       "                 review_rating  comment_length\n",
       " review_rating        1.000000       -0.130977\n",
       " comment_length      -0.130977        1.000000)"
      ]
     },
     "execution_count": 7,
     "metadata": {},
     "output_type": "execute_result"
    }
   ],
   "source": [
    "# Remove rows with missing values\n",
    "clean_data = data.dropna()\n",
    "\n",
    "# Check the new shape of the data\n",
    "new_shape = clean_data.shape\n",
    "\n",
    "# For correlation analysis, we first need to add a new column for the length of the comments\n",
    "clean_data['comment_length'] = clean_data['review_comment'].apply(len)\n",
    "\n",
    "# Calculate the correlation between 'review_rating' and 'comment_length'\n",
    "correlation = clean_data[['review_rating', 'comment_length']].corr()\n",
    "\n",
    "new_shape, correlation\n"
   ]
  },
  {
   "cell_type": "code",
   "execution_count": 8,
   "metadata": {},
   "outputs": [
    {
     "data": {
      "text/plain": [
       "{'positive_emphasis': 82,\n",
       " 'negative_emphasis': 1,\n",
       " 'question': 0,\n",
       " 'exclamation': 20,\n",
       " 'capital_words': 9}"
      ]
     },
     "execution_count": 8,
     "metadata": {},
     "output_type": "execute_result"
    }
   ],
   "source": [
    "import re\n",
    "\n",
    "# Define regex patterns to look for emphasis and sentiment\n",
    "patterns = {\n",
    "    \"positive_emphasis\": re.compile(r'\\b(great|good|excellent|amazing|love|best|awesome|fantastic)\\b', re.IGNORECASE),\n",
    "    \"negative_emphasis\": re.compile(r'\\b(bad|terrible|awful|poor|worst|hate|disappoint)\\b', re.IGNORECASE),\n",
    "    \"question\": re.compile(r'\\?'),\n",
    "    \"exclamation\": re.compile(r'!'),\n",
    "    \"capital_words\": re.compile(r'\\b[A-Z]{2,}\\b')  # words with all letters capitalized, and at least two characters long\n",
    "}\n",
    "\n",
    "# Initialize a dictionary to hold the counts of each pattern\n",
    "pattern_counts = {key: 0 for key in patterns}\n",
    "\n",
    "# Scan each review and count the occurrences of each pattern\n",
    "for review in clean_data['review_comment']:\n",
    "    for key, pattern in patterns.items():\n",
    "        if re.search(pattern, review):\n",
    "            pattern_counts[key] += 1\n",
    "\n",
    "pattern_counts\n"
   ]
  },
  {
   "cell_type": "code",
   "execution_count": 11,
   "metadata": {},
   "outputs": [],
   "source": [
    "from sklearn.model_selection import train_test_split\n",
    "from sklearn.feature_extraction.text import TfidfVectorizer\n",
    "from sklearn.naive_bayes import MultinomialNB\n",
    "from sklearn.pipeline import make_pipeline\n",
    "from sklearn.metrics import classification_report, confusion_matrix\n",
    "import string\n",
    "\n",
    "# Function for text cleaning and normalization\n",
    "def clean_text(text):\n",
    "    text = text.lower()  # convert text to lowercase\n",
    "    text = text.translate(str.maketrans('', '', string.punctuation))  # remove punctuation\n",
    "    return text\n",
    "\n",
    "# Apply the function to clean the reviews\n",
    "clean_data.loc[:, 'review_comment'] = clean_data.loc[:, 'review_comment'].apply(clean_text)\n",
    "\n",
    "# Split data into features (X) and target label (y)\n",
    "X = clean_data.loc[:, 'review_comment']\n",
    "y = clean_data.loc[:, 'review_comment']\n",
    "\n",
    "# Split the data into training and testing sets\n",
    "X_train, X_test, y_train, y_test = train_test_split(X, y, test_size=0.2, random_state=42)\n",
    "\n",
    "\n"
   ]
  },
  {
   "cell_type": "code",
   "execution_count": 12,
   "metadata": {},
   "outputs": [
    {
     "name": "stderr",
     "output_type": "stream",
     "text": [
      "c:\\Users\\Usman Saghla\\anaconda3\\Lib\\site-packages\\sklearn\\metrics\\_classification.py:1531: UndefinedMetricWarning: Precision is ill-defined and being set to 0.0 in labels with no predicted samples. Use `zero_division` parameter to control this behavior.\n",
      "  _warn_prf(average, modifier, f\"{metric.capitalize()} is\", len(result))\n",
      "c:\\Users\\Usman Saghla\\anaconda3\\Lib\\site-packages\\sklearn\\metrics\\_classification.py:1531: UndefinedMetricWarning: Precision is ill-defined and being set to 0.0 in labels with no predicted samples. Use `zero_division` parameter to control this behavior.\n",
      "  _warn_prf(average, modifier, f\"{metric.capitalize()} is\", len(result))\n",
      "c:\\Users\\Usman Saghla\\anaconda3\\Lib\\site-packages\\sklearn\\metrics\\_classification.py:1531: UndefinedMetricWarning: Precision is ill-defined and being set to 0.0 in labels with no predicted samples. Use `zero_division` parameter to control this behavior.\n",
      "  _warn_prf(average, modifier, f\"{metric.capitalize()} is\", len(result))\n"
     ]
    },
    {
     "data": {
      "text/plain": [
       "('                                                                                                                                                                                                                                                                                                                                                                                                                                 precision    recall  f1-score   support\\n\\n                                                                                                                                                                                                                                                                                                                                                                                                                                      0.00      0.00      0.00         1\\n                                                                                                                                                                                                                                                                                                                                                                                                                      5 stars\\n\\n       0.00      0.00      0.00         1\\n                                                                                                                                                                                                                                                                                                                                                                                                                       amazing        0.00      0.00      0.00         2\\n                                                                                                                                                                                                                                                                                                                                                                                                                      awesome 😎       0.00      0.00      0.00         1\\n                                                                                                                                                                                                                                                                                                                                                                                                        data science simplified       0.00      0.00      0.00         1\\n                                                                                                                                                                                                                                                                                                                                                                                                                      excellent       0.05      1.00      0.10         1\\n                                                                                                                                                                                                                                                                                                                                                                                                       excellent easy to follow       0.00      0.00      0.00         1\\n                                                                                                                                                                                                                                                                                                                                                                                     excellent practical and easy to understand       0.00      0.00      0.00         1\\n                                                                                                                                                                                                                                                                                                                                                                       excellent the videos are very well made and very helpful       0.00      0.00      0.00         1\\n                                                                                                                                                                                                                                                                                                                                                                                                                           good       0.20      1.00      0.33         1\\n                                                                                                                                                                                                                                                                                                                                                                                                                          great       0.43      1.00      0.60         3\\n                                                                                                                                                                                                                                                                                                                                                                                                                         great\\n       0.00      0.00      0.00         1\\n                                                                                                                                                                                                                                                                                                                                                                                                                  great course        0.00      0.00      0.00         1\\n                                                                                                                                                                                                                                                                                                                                                                                        great teacher mentor \\nnever seen before       0.00      0.00      0.00         1\\n                                                                                                                                                                                                                                                                                                                                                                                                  great very clear explanations       0.00      0.00      0.00         1\\n                                                                                                                                                                                                                                                                                                                                                 i can barely hear as lessons are presented goes really fast hard to understand       0.00      0.00      0.00         1\\n                                                                                                                                                                                                                                                                                                                                                                                       i really like this course it is awesome        0.00      0.00      0.00         1\\n                                                                  i understand that this is a course that provides an overview of machine learning techniques however i think that the course goes way too fast over many of the topics  also there are sections when the code is presented before going into detail on the methods the code is using  i would prefer that the coding sessions occur at the end of each section       0.00      0.00      0.00         1\\n                                                                                                                                                                                                                                                                                                                                                                                                            its good till now 3       0.00      0.00      0.00         1\\n                                                                                                                                                                                                                                                                                                                                                                                                            lot of information        0.00      0.00      0.00         1\\n                                                                                                                                                                                                                                                                                                                                        more exercises would help to solidify concepts the statistics course did this very well       0.00      0.00      0.00         1\\n                                                                                                                                                                                                                                                                                                                                                     nice chance to get something new even after 18 years experience with excel       0.00      0.00      0.00         1\\nnice course to introduce anyone to the world of nlp\\nluckily been working on nlp projects for close to a year now and most of these is pretty intuitive to me\\nclear explanations and a great course overall i loved the topic modelling parts i remember first having to use latent dirichlet allocation first time at work when i didnt know nothing about it but luckily had a very good boss whos super good with this stuff        0.00      0.00      0.00         1\\n                                                                                                                                                                                      overall the entire course was great but the hypothesis part is a bit confusing to me i think the instructor could take some more time to explain it further and make it even easier to understand however i still really liked the course       0.00      0.00      0.00         1\\n                                                                                                                                                                                                                                                                                                                                                                                                                 so far so good       0.00      0.00      0.00         1\\n                                                                                                                                                                                                                                                                                                                                                       the questions after each section do not seem to cohere with the material       0.00      0.00      0.00         1\\n                                                                                                                                                                                                    this is most awesome online course i came across this year\\n\\nthe slides are simple and instructive the expertise of the instructor is quite captivating\\n\\nlastly the examples used are just perfect for applying the lessons        0.00      0.00      0.00         1\\n                                                                                                                                                              till now the course has been good but still many things to come and i need to see more specific training to judge better the level of detail that they are going to teach is very important which will remain for the later sessions of the course hope it works        0.00      0.00      0.00         1\\n\\n                                                                                                                                                                                                                                                                                                                                                                                                                       accuracy                           0.16        31\\n                                                                                                                                                                                                                                                                                                                                                                                                                      macro avg       0.02      0.11      0.04        31\\n                                                                                                                                                                                                                                                                                                                                                                                                                   weighted avg       0.05      0.16      0.07        31\\n',\n",
       " array([[0, 0, 0, 0, 0, 1, 0, 0, 0, 0, 0, 0, 0, 0, 0, 0, 0, 0, 0, 0, 0, 0,\n",
       "         0, 0, 0, 0, 0, 0],\n",
       "        [0, 0, 0, 0, 0, 1, 0, 0, 0, 0, 0, 0, 0, 0, 0, 0, 0, 0, 0, 0, 0, 0,\n",
       "         0, 0, 0, 0, 0, 0],\n",
       "        [0, 0, 0, 0, 0, 2, 0, 0, 0, 0, 0, 0, 0, 0, 0, 0, 0, 0, 0, 0, 0, 0,\n",
       "         0, 0, 0, 0, 0, 0],\n",
       "        [0, 0, 0, 0, 0, 1, 0, 0, 0, 0, 0, 0, 0, 0, 0, 0, 0, 0, 0, 0, 0, 0,\n",
       "         0, 0, 0, 0, 0, 0],\n",
       "        [0, 0, 0, 0, 0, 1, 0, 0, 0, 0, 0, 0, 0, 0, 0, 0, 0, 0, 0, 0, 0, 0,\n",
       "         0, 0, 0, 0, 0, 0],\n",
       "        [0, 0, 0, 0, 0, 1, 0, 0, 0, 0, 0, 0, 0, 0, 0, 0, 0, 0, 0, 0, 0, 0,\n",
       "         0, 0, 0, 0, 0, 0],\n",
       "        [0, 0, 0, 0, 0, 1, 0, 0, 0, 0, 0, 0, 0, 0, 0, 0, 0, 0, 0, 0, 0, 0,\n",
       "         0, 0, 0, 0, 0, 0],\n",
       "        [0, 0, 0, 0, 0, 1, 0, 0, 0, 0, 0, 0, 0, 0, 0, 0, 0, 0, 0, 0, 0, 0,\n",
       "         0, 0, 0, 0, 0, 0],\n",
       "        [0, 0, 0, 0, 0, 1, 0, 0, 0, 0, 0, 0, 0, 0, 0, 0, 0, 0, 0, 0, 0, 0,\n",
       "         0, 0, 0, 0, 0, 0],\n",
       "        [0, 0, 0, 0, 0, 0, 0, 0, 0, 1, 0, 0, 0, 0, 0, 0, 0, 0, 0, 0, 0, 0,\n",
       "         0, 0, 0, 0, 0, 0],\n",
       "        [0, 0, 0, 0, 0, 0, 0, 0, 0, 0, 3, 0, 0, 0, 0, 0, 0, 0, 0, 0, 0, 0,\n",
       "         0, 0, 0, 0, 0, 0],\n",
       "        [0, 0, 0, 0, 0, 0, 0, 0, 0, 0, 1, 0, 0, 0, 0, 0, 0, 0, 0, 0, 0, 0,\n",
       "         0, 0, 0, 0, 0, 0],\n",
       "        [0, 0, 0, 0, 0, 0, 0, 0, 0, 0, 1, 0, 0, 0, 0, 0, 0, 0, 0, 0, 0, 0,\n",
       "         0, 0, 0, 0, 0, 0],\n",
       "        [0, 0, 0, 0, 0, 0, 0, 0, 0, 0, 1, 0, 0, 0, 0, 0, 0, 0, 0, 0, 0, 0,\n",
       "         0, 0, 0, 0, 0, 0],\n",
       "        [0, 0, 0, 0, 0, 0, 0, 0, 0, 0, 1, 0, 0, 0, 0, 0, 0, 0, 0, 0, 0, 0,\n",
       "         0, 0, 0, 0, 0, 0],\n",
       "        [0, 0, 0, 0, 0, 1, 0, 0, 0, 0, 0, 0, 0, 0, 0, 0, 0, 0, 0, 0, 0, 0,\n",
       "         0, 0, 0, 0, 0, 0],\n",
       "        [0, 0, 0, 0, 0, 1, 0, 0, 0, 0, 0, 0, 0, 0, 0, 0, 0, 0, 0, 0, 0, 0,\n",
       "         0, 0, 0, 0, 0, 0],\n",
       "        [0, 0, 0, 0, 0, 1, 0, 0, 0, 0, 0, 0, 0, 0, 0, 0, 0, 0, 0, 0, 0, 0,\n",
       "         0, 0, 0, 0, 0, 0],\n",
       "        [0, 0, 0, 0, 0, 0, 0, 0, 0, 1, 0, 0, 0, 0, 0, 0, 0, 0, 0, 0, 0, 0,\n",
       "         0, 0, 0, 0, 0, 0],\n",
       "        [0, 0, 0, 0, 0, 1, 0, 0, 0, 0, 0, 0, 0, 0, 0, 0, 0, 0, 0, 0, 0, 0,\n",
       "         0, 0, 0, 0, 0, 0],\n",
       "        [0, 0, 0, 0, 0, 1, 0, 0, 0, 0, 0, 0, 0, 0, 0, 0, 0, 0, 0, 0, 0, 0,\n",
       "         0, 0, 0, 0, 0, 0],\n",
       "        [0, 0, 0, 0, 0, 1, 0, 0, 0, 0, 0, 0, 0, 0, 0, 0, 0, 0, 0, 0, 0, 0,\n",
       "         0, 0, 0, 0, 0, 0],\n",
       "        [0, 0, 0, 0, 0, 0, 0, 0, 0, 1, 0, 0, 0, 0, 0, 0, 0, 0, 0, 0, 0, 0,\n",
       "         0, 0, 0, 0, 0, 0],\n",
       "        [0, 0, 0, 0, 0, 1, 0, 0, 0, 0, 0, 0, 0, 0, 0, 0, 0, 0, 0, 0, 0, 0,\n",
       "         0, 0, 0, 0, 0, 0],\n",
       "        [0, 0, 0, 0, 0, 0, 0, 0, 0, 1, 0, 0, 0, 0, 0, 0, 0, 0, 0, 0, 0, 0,\n",
       "         0, 0, 0, 0, 0, 0],\n",
       "        [0, 0, 0, 0, 0, 1, 0, 0, 0, 0, 0, 0, 0, 0, 0, 0, 0, 0, 0, 0, 0, 0,\n",
       "         0, 0, 0, 0, 0, 0],\n",
       "        [0, 0, 0, 0, 0, 1, 0, 0, 0, 0, 0, 0, 0, 0, 0, 0, 0, 0, 0, 0, 0, 0,\n",
       "         0, 0, 0, 0, 0, 0],\n",
       "        [0, 0, 0, 0, 0, 0, 0, 0, 0, 1, 0, 0, 0, 0, 0, 0, 0, 0, 0, 0, 0, 0,\n",
       "         0, 0, 0, 0, 0, 0]], dtype=int64))"
      ]
     },
     "execution_count": 12,
     "metadata": {},
     "output_type": "execute_result"
    }
   ],
   "source": [
    "# Initialize a TF-IDF Vectorizer\n",
    "vectorizer = TfidfVectorizer(stop_words='english')\n",
    "\n",
    "# Initialize the Multinomial Naive Bayes classifier\n",
    "model = MultinomialNB()\n",
    "\n",
    "# Create a pipeline that first vectorizes the text data then applies the Naive Bayes classifier\n",
    "text_clf = make_pipeline(vectorizer, model)\n",
    "\n",
    "# Train the model with the training data\n",
    "text_clf.fit(X_train, y_train)\n",
    "\n",
    "# Predict the categories of the test data\n",
    "y_pred = text_clf.predict(X_test)\n",
    "\n",
    "# Calculate the classification report\n",
    "report = classification_report(y_test, y_pred)\n",
    "\n",
    "# Calculate the confusion matrix\n",
    "conf_matrix = confusion_matrix(y_test, y_pred)\n",
    "\n",
    "report, conf_matrix"
   ]
  },
  {
   "cell_type": "code",
   "execution_count": 15,
   "metadata": {},
   "outputs": [
    {
     "data": {
      "text/plain": [
       "review_rating\n",
       "5    121\n",
       "4     73\n",
       "3     34\n",
       "1     12\n",
       "2      2\n",
       "Name: count, dtype: int64"
      ]
     },
     "execution_count": 15,
     "metadata": {},
     "output_type": "execute_result"
    }
   ],
   "source": [
    "from sklearn.utils import resample\n",
    "\n",
    "# Separate the majority and minority classes\n",
    "df_majority = clean_data[clean_data.review_rating == 5]\n",
    "df_minority = clean_data[clean_data.review_rating < 5]\n",
    "\n",
    "# Upsample minority class\n",
    "df_minority_upsampled = resample(df_minority, \n",
    "                                 replace=True,     # sample with replacement\n",
    "                                 n_samples=len(df_majority),    # to match majority class\n",
    "                                 random_state=42) # reproducible results\n",
    "\n",
    "# Combine majority class with upsampled minority class\n",
    "df_upsampled = pd.concat([df_majority, df_minority_upsampled])\n",
    "\n",
    "# Display new class counts\n",
    "df_upsampled.review_rating.value_counts()\n"
   ]
  },
  {
   "cell_type": "code",
   "execution_count": 16,
   "metadata": {},
   "outputs": [
    {
     "name": "stderr",
     "output_type": "stream",
     "text": [
      "c:\\Users\\Usman Saghla\\anaconda3\\Lib\\site-packages\\sklearn\\metrics\\_classification.py:1531: UndefinedMetricWarning: Precision is ill-defined and being set to 0.0 in labels with no predicted samples. Use `zero_division` parameter to control this behavior.\n",
      "  _warn_prf(average, modifier, f\"{metric.capitalize()} is\", len(result))\n",
      "c:\\Users\\Usman Saghla\\anaconda3\\Lib\\site-packages\\sklearn\\metrics\\_classification.py:1531: UndefinedMetricWarning: Precision is ill-defined and being set to 0.0 in labels with no predicted samples. Use `zero_division` parameter to control this behavior.\n",
      "  _warn_prf(average, modifier, f\"{metric.capitalize()} is\", len(result))\n",
      "c:\\Users\\Usman Saghla\\anaconda3\\Lib\\site-packages\\sklearn\\metrics\\_classification.py:1531: UndefinedMetricWarning: Precision is ill-defined and being set to 0.0 in labels with no predicted samples. Use `zero_division` parameter to control this behavior.\n",
      "  _warn_prf(average, modifier, f\"{metric.capitalize()} is\", len(result))\n"
     ]
    },
    {
     "data": {
      "text/plain": [
       "('              precision    recall  f1-score   support\\n\\n           1       1.00      0.33      0.50         3\\n           2       0.00      0.00      0.00         1\\n           3       1.00      0.33      0.50         6\\n           4       0.75      0.92      0.83        13\\n           5       0.77      0.88      0.82        26\\n\\n    accuracy                           0.78        49\\n   macro avg       0.70      0.49      0.53        49\\nweighted avg       0.79      0.78      0.75        49\\n',\n",
       " array([[ 1,  0,  0,  0,  2],\n",
       "        [ 0,  0,  0,  0,  1],\n",
       "        [ 0,  0,  2,  1,  3],\n",
       "        [ 0,  0,  0, 12,  1],\n",
       "        [ 0,  0,  0,  3, 23]], dtype=int64))"
      ]
     },
     "execution_count": 16,
     "metadata": {},
     "output_type": "execute_result"
    }
   ],
   "source": [
    "# Split the upsampled data into features (X) and target label (y)\n",
    "X_upsampled = df_upsampled['review_comment']\n",
    "y_upsampled = df_upsampled['review_rating']\n",
    "\n",
    "# Split the upsampled data into training and testing sets\n",
    "X_train_upsampled, X_test_upsampled, y_train_upsampled, y_test_upsampled = train_test_split(\n",
    "    X_upsampled, y_upsampled, test_size=0.2, random_state=42)\n",
    "\n",
    "# Train the model with the upsampled training data\n",
    "text_clf_upsampled = make_pipeline(vectorizer, model)\n",
    "text_clf_upsampled.fit(X_train_upsampled, y_train_upsampled)\n",
    "\n",
    "# Predict the categories of the upsampled test data\n",
    "y_pred_upsampled = text_clf_upsampled.predict(X_test_upsampled)\n",
    "\n",
    "# Calculate the classification report for the upsampled data\n",
    "report_upsampled = classification_report(y_test_upsampled, y_pred_upsampled)\n",
    "\n",
    "# Calculate the confusion matrix for the upsampled data\n",
    "conf_matrix_upsampled = confusion_matrix(y_test_upsampled, y_pred_upsampled)\n",
    "\n",
    "report_upsampled, conf_matrix_upsampled\n"
   ]
  },
  {
   "cell_type": "markdown",
   "metadata": {},
   "source": [
    "## Classification task"
   ]
  },
  {
   "cell_type": "code",
   "execution_count": 17,
   "metadata": {},
   "outputs": [
    {
     "name": "stderr",
     "output_type": "stream",
     "text": [
      "c:\\Users\\Usman Saghla\\anaconda3\\Lib\\site-packages\\sklearn\\metrics\\_classification.py:1531: UndefinedMetricWarning: Precision is ill-defined and being set to 0.0 in labels with no predicted samples. Use `zero_division` parameter to control this behavior.\n",
      "  _warn_prf(average, modifier, f\"{metric.capitalize()} is\", len(result))\n",
      "c:\\Users\\Usman Saghla\\anaconda3\\Lib\\site-packages\\sklearn\\metrics\\_classification.py:1531: UndefinedMetricWarning: Precision is ill-defined and being set to 0.0 in labels with no predicted samples. Use `zero_division` parameter to control this behavior.\n",
      "  _warn_prf(average, modifier, f\"{metric.capitalize()} is\", len(result))\n",
      "c:\\Users\\Usman Saghla\\anaconda3\\Lib\\site-packages\\sklearn\\metrics\\_classification.py:1531: UndefinedMetricWarning: Precision is ill-defined and being set to 0.0 in labels with no predicted samples. Use `zero_division` parameter to control this behavior.\n",
      "  _warn_prf(average, modifier, f\"{metric.capitalize()} is\", len(result))\n"
     ]
    },
    {
     "data": {
      "image/png": "[encoded data removed]",
      "text/plain": [
       "<Figure size 800x600 with 2 Axes>"
      ]
     },
     "metadata": {},
     "output_type": "display_data"
    },
    {
     "data": {
      "text/html": [
       "<div>\n",
       "<style scoped>\n",
       "    .dataframe tbody tr th:only-of-type {\n",
       "        vertical-align: middle;\n",
       "    }\n",
       "\n",
       "    .dataframe tbody tr th {\n",
       "        vertical-align: top;\n",
       "    }\n",
       "\n",
       "    .dataframe thead th {\n",
       "        text-align: right;\n",
       "    }\n",
       "</style>\n",
       "<table border=\"1\" class=\"dataframe\">\n",
       "  <thead>\n",
       "    <tr style=\"text-align: right;\">\n",
       "      <th></th>\n",
       "      <th>precision</th>\n",
       "      <th>recall</th>\n",
       "      <th>f1-score</th>\n",
       "      <th>support</th>\n",
       "    </tr>\n",
       "  </thead>\n",
       "  <tbody>\n",
       "    <tr>\n",
       "      <th>bad</th>\n",
       "      <td>0.000000</td>\n",
       "      <td>0.000000</td>\n",
       "      <td>0.000000</td>\n",
       "      <td>4.000000</td>\n",
       "    </tr>\n",
       "    <tr>\n",
       "      <th>good</th>\n",
       "      <td>0.870968</td>\n",
       "      <td>1.000000</td>\n",
       "      <td>0.931034</td>\n",
       "      <td>27.000000</td>\n",
       "    </tr>\n",
       "    <tr>\n",
       "      <th>accuracy</th>\n",
       "      <td>0.870968</td>\n",
       "      <td>0.870968</td>\n",
       "      <td>0.870968</td>\n",
       "      <td>0.870968</td>\n",
       "    </tr>\n",
       "    <tr>\n",
       "      <th>macro avg</th>\n",
       "      <td>0.435484</td>\n",
       "      <td>0.500000</td>\n",
       "      <td>0.465517</td>\n",
       "      <td>31.000000</td>\n",
       "    </tr>\n",
       "    <tr>\n",
       "      <th>weighted avg</th>\n",
       "      <td>0.758585</td>\n",
       "      <td>0.870968</td>\n",
       "      <td>0.810901</td>\n",
       "      <td>31.000000</td>\n",
       "    </tr>\n",
       "  </tbody>\n",
       "</table>\n",
       "</div>"
      ],
      "text/plain": [
       "              precision    recall  f1-score    support\n",
       "bad            0.000000  0.000000  0.000000   4.000000\n",
       "good           0.870968  1.000000  0.931034  27.000000\n",
       "accuracy       0.870968  0.870968  0.870968   0.870968\n",
       "macro avg      0.435484  0.500000  0.465517  31.000000\n",
       "weighted avg   0.758585  0.870968  0.810901  31.000000"
      ]
     },
     "execution_count": 17,
     "metadata": {},
     "output_type": "execute_result"
    }
   ],
   "source": [
    "# Define a function to convert ratings into 'good' and 'bad'\n",
    "def binary_rating(rating):\n",
    "    if rating >= 4:\n",
    "        return 'good'\n",
    "    else:\n",
    "        return 'bad'\n",
    "\n",
    "# Apply the function to the 'review_rating' column\n",
    "binary_data = clean_data.copy()\n",
    "binary_data['review_rating'] = binary_data['review_rating'].apply(binary_rating)\n",
    "\n",
    "# Split data into features (X) and target label (y)\n",
    "X_binary = binary_data['review_comment']\n",
    "y_binary = binary_data['review_rating']\n",
    "\n",
    "# Split the data into training and testing sets\n",
    "X_train_binary, X_test_binary, y_train_binary, y_test_binary = train_test_split(\n",
    "    X_binary, y_binary, test_size=0.2, random_state=42)\n",
    "\n",
    "# Train the model with the binary training data\n",
    "text_clf_binary = make_pipeline(vectorizer, model)\n",
    "text_clf_binary.fit(X_train_binary, y_train_binary)\n",
    "\n",
    "# Predict the categories of the binary test data\n",
    "y_pred_binary = text_clf_binary.predict(X_test_binary)\n",
    "\n",
    "# Calculate the classification report for the binary data\n",
    "report_binary = classification_report(y_test_binary, y_pred_binary, output_dict=True)\n",
    "\n",
    "# Calculate the confusion matrix for the binary data\n",
    "conf_matrix_binary = confusion_matrix(y_test_binary, y_pred_binary)\n",
    "\n",
    "# Convert classification report to DataFrame for better visualization\n",
    "report_binary_df = pd.DataFrame(report_binary).transpose()\n",
    "\n",
    "# Plot confusion matrix as a heatmap\n",
    "plt.figure(figsize=(8, 6))\n",
    "sns.heatmap(conf_matrix_binary, annot=True, fmt='d', cmap='Blues', \n",
    "            xticklabels=['bad', 'good'], yticklabels=['bad', 'good'])\n",
    "plt.ylabel('Actual')\n",
    "plt.xlabel('Predicted')\n",
    "plt.title('Confusion Matrix')\n",
    "plt.show()\n",
    "\n",
    "report_binary_df\n"
   ]
  },
  {
   "cell_type": "code",
   "execution_count": 18,
   "metadata": {},
   "outputs": [
    {
     "data": {
      "image/png": "[encoded data removed]",
      "text/plain": [
       "<Figure size 800x600 with 2 Axes>"
      ]
     },
     "metadata": {},
     "output_type": "display_data"
    },
    {
     "data": {
      "text/html": [
       "<div>\n",
       "<style scoped>\n",
       "    .dataframe tbody tr th:only-of-type {\n",
       "        vertical-align: middle;\n",
       "    }\n",
       "\n",
       "    .dataframe tbody tr th {\n",
       "        vertical-align: top;\n",
       "    }\n",
       "\n",
       "    .dataframe thead th {\n",
       "        text-align: right;\n",
       "    }\n",
       "</style>\n",
       "<table border=\"1\" class=\"dataframe\">\n",
       "  <thead>\n",
       "    <tr style=\"text-align: right;\">\n",
       "      <th></th>\n",
       "      <th>precision</th>\n",
       "      <th>recall</th>\n",
       "      <th>f1-score</th>\n",
       "      <th>support</th>\n",
       "    </tr>\n",
       "  </thead>\n",
       "  <tbody>\n",
       "    <tr>\n",
       "      <th>bad</th>\n",
       "      <td>0.000000</td>\n",
       "      <td>0.000000</td>\n",
       "      <td>0.000000</td>\n",
       "      <td>4.000000</td>\n",
       "    </tr>\n",
       "    <tr>\n",
       "      <th>good</th>\n",
       "      <td>0.870968</td>\n",
       "      <td>1.000000</td>\n",
       "      <td>0.931034</td>\n",
       "      <td>27.000000</td>\n",
       "    </tr>\n",
       "    <tr>\n",
       "      <th>accuracy</th>\n",
       "      <td>0.870968</td>\n",
       "      <td>0.870968</td>\n",
       "      <td>0.870968</td>\n",
       "      <td>0.870968</td>\n",
       "    </tr>\n",
       "    <tr>\n",
       "      <th>macro avg</th>\n",
       "      <td>0.435484</td>\n",
       "      <td>0.500000</td>\n",
       "      <td>0.465517</td>\n",
       "      <td>31.000000</td>\n",
       "    </tr>\n",
       "    <tr>\n",
       "      <th>weighted avg</th>\n",
       "      <td>0.758585</td>\n",
       "      <td>0.870968</td>\n",
       "      <td>0.810901</td>\n",
       "      <td>31.000000</td>\n",
       "    </tr>\n",
       "  </tbody>\n",
       "</table>\n",
       "</div>"
      ],
      "text/plain": [
       "              precision    recall  f1-score    support\n",
       "bad            0.000000  0.000000  0.000000   4.000000\n",
       "good           0.870968  1.000000  0.931034  27.000000\n",
       "accuracy       0.870968  0.870968  0.870968   0.870968\n",
       "macro avg      0.435484  0.500000  0.465517  31.000000\n",
       "weighted avg   0.758585  0.870968  0.810901  31.000000"
      ]
     },
     "execution_count": 18,
     "metadata": {},
     "output_type": "execute_result"
    }
   ],
   "source": [
    "\n",
    "\n",
    "# Redo the confusion matrix plot with seaborn now imported\n",
    "plt.figure(figsize=(8, 6))\n",
    "sns.heatmap(conf_matrix_binary, annot=True, fmt='d', cmap='Blues', \n",
    "            xticklabels=['bad', 'good'], yticklabels=['bad', 'good'])\n",
    "plt.ylabel('Actual')\n",
    "plt.xlabel('Predicted')\n",
    "plt.title('Confusion Matrix')\n",
    "plt.show()\n",
    "\n",
    "report_binary_df\n"
   ]
  },
  {
   "cell_type": "code",
   "execution_count": 19,
   "metadata": {},
   "outputs": [
    {
     "data": {
      "text/plain": [
       "review_rating\n",
       "good    139\n",
       "bad     139\n",
       "Name: count, dtype: int64"
      ]
     },
     "execution_count": 19,
     "metadata": {},
     "output_type": "execute_result"
    }
   ],
   "source": [
    "# Separate the majority and minority classes\n",
    "df_majority_binary = binary_data[binary_data.review_rating == 'good']\n",
    "df_minority_binary = binary_data[binary_data.review_rating == 'bad']\n",
    "\n",
    "# Oversample minority class\n",
    "df_minority_upsampled_binary = resample(df_minority_binary, \n",
    "                                        replace=True,     # sample with replacement\n",
    "                                        n_samples=len(df_majority_binary),    # to match majority class\n",
    "                                        random_state=42) # reproducible results\n",
    "\n",
    "# Combine majority class with upsampled minority class\n",
    "df_upsampled_binary = pd.concat([df_majority_binary, df_minority_upsampled_binary])\n",
    "\n",
    "# Display new class counts\n",
    "df_upsampled_binary.review_rating.value_counts()\n"
   ]
  },
  {
   "cell_type": "code",
   "execution_count": 20,
   "metadata": {},
   "outputs": [
    {
     "data": {
      "image/png": "[encoded data removed]",
      "text/plain": [
       "<Figure size 800x600 with 2 Axes>"
      ]
     },
     "metadata": {},
     "output_type": "display_data"
    },
    {
     "data": {
      "text/html": [
       "<div>\n",
       "<style scoped>\n",
       "    .dataframe tbody tr th:only-of-type {\n",
       "        vertical-align: middle;\n",
       "    }\n",
       "\n",
       "    .dataframe tbody tr th {\n",
       "        vertical-align: top;\n",
       "    }\n",
       "\n",
       "    .dataframe thead th {\n",
       "        text-align: right;\n",
       "    }\n",
       "</style>\n",
       "<table border=\"1\" class=\"dataframe\">\n",
       "  <thead>\n",
       "    <tr style=\"text-align: right;\">\n",
       "      <th></th>\n",
       "      <th>precision</th>\n",
       "      <th>recall</th>\n",
       "      <th>f1-score</th>\n",
       "      <th>support</th>\n",
       "    </tr>\n",
       "  </thead>\n",
       "  <tbody>\n",
       "    <tr>\n",
       "      <th>bad</th>\n",
       "      <td>0.888889</td>\n",
       "      <td>0.827586</td>\n",
       "      <td>0.857143</td>\n",
       "      <td>29.000000</td>\n",
       "    </tr>\n",
       "    <tr>\n",
       "      <th>good</th>\n",
       "      <td>0.827586</td>\n",
       "      <td>0.888889</td>\n",
       "      <td>0.857143</td>\n",
       "      <td>27.000000</td>\n",
       "    </tr>\n",
       "    <tr>\n",
       "      <th>accuracy</th>\n",
       "      <td>0.857143</td>\n",
       "      <td>0.857143</td>\n",
       "      <td>0.857143</td>\n",
       "      <td>0.857143</td>\n",
       "    </tr>\n",
       "    <tr>\n",
       "      <th>macro avg</th>\n",
       "      <td>0.858238</td>\n",
       "      <td>0.858238</td>\n",
       "      <td>0.857143</td>\n",
       "      <td>56.000000</td>\n",
       "    </tr>\n",
       "    <tr>\n",
       "      <th>weighted avg</th>\n",
       "      <td>0.859332</td>\n",
       "      <td>0.857143</td>\n",
       "      <td>0.857143</td>\n",
       "      <td>56.000000</td>\n",
       "    </tr>\n",
       "  </tbody>\n",
       "</table>\n",
       "</div>"
      ],
      "text/plain": [
       "              precision    recall  f1-score    support\n",
       "bad            0.888889  0.827586  0.857143  29.000000\n",
       "good           0.827586  0.888889  0.857143  27.000000\n",
       "accuracy       0.857143  0.857143  0.857143   0.857143\n",
       "macro avg      0.858238  0.858238  0.857143  56.000000\n",
       "weighted avg   0.859332  0.857143  0.857143  56.000000"
      ]
     },
     "execution_count": 20,
     "metadata": {},
     "output_type": "execute_result"
    }
   ],
   "source": [
    "# Split the upsampled binary data into features (X) and target label (y)\n",
    "X_upsampled_binary = df_upsampled_binary['review_comment']\n",
    "y_upsampled_binary = df_upsampled_binary['review_rating']\n",
    "\n",
    "# Split the upsampled data into training and testing sets\n",
    "X_train_upsampled_binary, X_test_upsampled_binary, y_train_upsampled_binary, y_test_upsampled_binary = train_test_split(\n",
    "    X_upsampled_binary, y_upsampled_binary, test_size=0.2, random_state=42)\n",
    "\n",
    "# Train the model with the upsampled binary training data\n",
    "text_clf_upsampled_binary = make_pipeline(vectorizer, model)\n",
    "text_clf_upsampled_binary.fit(X_train_upsampled_binary, y_train_upsampled_binary)\n",
    "\n",
    "# Predict the categories of the upsampled binary test data\n",
    "y_pred_upsampled_binary = text_clf_upsampled_binary.predict(X_test_upsampled_binary)\n",
    "\n",
    "# Calculate the classification report for the upsampled binary data\n",
    "report_upsampled_binary = classification_report(y_test_upsampled_binary, y_pred_upsampled_binary, output_dict=True)\n",
    "\n",
    "# Calculate the confusion matrix for the upsampled binary data\n",
    "conf_matrix_upsampled_binary = confusion_matrix(y_test_upsampled_binary, y_pred_upsampled_binary)\n",
    "\n",
    "# Convert classification report to DataFrame for better visualization\n",
    "report_upsampled_binary_df = pd.DataFrame(report_upsampled_binary).transpose()\n",
    "\n",
    "# Plot confusion matrix as a heatmap\n",
    "plt.figure(figsize=(8, 6))\n",
    "sns.heatmap(conf_matrix_upsampled_binary, annot=True, fmt='d', cmap='Blues', \n",
    "            xticklabels=['bad', 'good'], yticklabels=['bad', 'good'])\n",
    "plt.ylabel('Actual')\n",
    "plt.xlabel('Predicted')\n",
    "plt.title('Confusion Matrix')\n",
    "plt.show()\n",
    "\n",
    "report_upsampled_binary_df\n"
   ]
  },
  {
   "cell_type": "markdown",
   "metadata": {},
   "source": [
    "## Test Set"
   ]
  },
  {
   "cell_type": "code",
   "execution_count": 24,
   "metadata": {},
   "outputs": [
    {
     "name": "stderr",
     "output_type": "stream",
     "text": [
      "C:\\Users\\Usman Saghla\\AppData\\Local\\Temp\\ipykernel_6908\\2443106294.py:8: SettingWithCopyWarning: \n",
      "A value is trying to be set on a copy of a slice from a DataFrame.\n",
      "Try using .loc[row_indexer,col_indexer] = value instead\n",
      "\n",
      "See the caveats in the documentation: https://pandas.pydata.org/pandas-docs/stable/user_guide/indexing.html#returning-a-view-versus-a-copy\n",
      "  test_set_clean['review_rating'] = pd.to_numeric(test_set_clean['review_rating'], errors='coerce')\n"
     ]
    },
    {
     "data": {
      "image/png": "[encoded data removed]",
      "text/plain": [
       "<Figure size 800x600 with 2 Axes>"
      ]
     },
     "metadata": {},
     "output_type": "display_data"
    },
    {
     "data": {
      "text/plain": [
       "(              precision    recall  f1-score     support\n",
       " bad            0.722222  1.000000  0.838710   13.000000\n",
       " good           1.000000  0.963504  0.981413  137.000000\n",
       " accuracy       0.966667  0.966667  0.966667    0.966667\n",
       " macro avg      0.861111  0.981752  0.910061  150.000000\n",
       " weighted avg   0.975926  0.966667  0.969045  150.000000,\n",
       "                              course_name  \\\n",
       " 0               Advanced Microsoft Excel   \n",
       " 1     Agile and Scrum Project Management   \n",
       " 2   AI Applications for Business Success   \n",
       " 3   AI Applications for Business Success   \n",
       " 4  Building a 3-Statement Model in Excel   \n",
       " \n",
       "                                         lecture_name review_rating  \\\n",
       " 0            F1 to F12 - Using Excel's Function Keys          good   \n",
       " 1                   Agile vs Waterfall - Conclusions           bad   \n",
       " 2                          Correlation vs. Causation           bad   \n",
       " 3                          Correlation vs. Causation           bad   \n",
       " 4  Calculating Cash Flows and Completing the Mode...          good   \n",
       " \n",
       "                                       review_comment  \n",
       " 0                                           perfect   \n",
       " 1               the scrum chapter are full of errors  \n",
       " 2                bad quality of audio and narrative   \n",
       " 3                 i need documentation about lecture  \n",
       " 4  great course ned has a talent for explaining t...  )"
      ]
     },
     "execution_count": 24,
     "metadata": {},
     "output_type": "execute_result"
    }
   ],
   "source": [
    "# Load the test set, handling bad lines (use on_bad_lines='skip' for pandas >= 1.3.0)\n",
    "test_set = pd.read_csv('12. user-courses-review-test-set.csv', on_bad_lines='skip')\n",
    "\n",
    "# Remove rows with missing 'review_comment' or 'review_rating'\n",
    "test_set_clean = test_set.dropna(subset=['review_comment', 'review_rating'])\n",
    "\n",
    "# Convert 'review_rating' to float and handle potential conversion issues\n",
    "test_set_clean['review_rating'] = pd.to_numeric(test_set_clean['review_rating'], errors='coerce')\n",
    "\n",
    "# Check for any 'NaN' in 'review_rating' after conversion and remove those rows\n",
    "test_set_clean = test_set_clean.dropna(subset=['review_rating'])\n",
    "\n",
    "# Function to categorize reviews\n",
    "def binary_rating(rating):\n",
    "    # considering the rating is now a float, we'll compare with 4.0 instead of 4\n",
    "    return 'good' if rating >= 4.0 else 'bad'\n",
    "\n",
    "# Clean the 'review_comment' texts\n",
    "test_set_clean['review_comment'] = test_set_clean['review_comment'].apply(clean_text)\n",
    "\n",
    "# Apply the 'binary_rating' function to categorize 'review_rating'\n",
    "test_set_clean['review_rating'] = test_set_clean['review_rating'].apply(binary_rating)\n",
    "\n",
    "# Ensure the preprocessing steps have been successfully applied\n",
    "preprocessed_test_set_clean_structure = test_set_clean.head()\n",
    "\n",
    "# Prepare the features and labels from the cleaned test set for model application\n",
    "X_test_set_clean = test_set_clean['review_comment']\n",
    "y_test_set_clean = test_set_clean['review_rating']\n",
    "\n",
    "# Use the trained model to predict the sentiments of the reviews in the cleaned test set\n",
    "y_pred_test_set_clean = text_clf_upsampled_binary.predict(X_test_set_clean)\n",
    "\n",
    "# Calculate the classification report for the cleaned test set predictions\n",
    "report_test_set_clean = classification_report(y_test_set_clean, y_pred_test_set_clean, output_dict=True)\n",
    "\n",
    "# Calculate the confusion matrix for the cleaned test set predictions\n",
    "conf_matrix_test_set_clean = confusion_matrix(y_test_set_clean, y_pred_test_set_clean)\n",
    "\n",
    "# Convert classification report to DataFrame for better visualization\n",
    "report_test_set_clean_df = pd.DataFrame(report_test_set_clean).transpose()\n",
    "\n",
    "# Plot confusion matrix as a heatmap\n",
    "plt.figure(figsize=(8, 6))\n",
    "sns.heatmap(conf_matrix_test_set_clean, annot=True, fmt='d', cmap='Blues', \n",
    "            xticklabels=['bad', 'good'], yticklabels=['bad', 'good'])\n",
    "plt.ylabel('Actual')\n",
    "plt.xlabel('Predicted')\n",
    "plt.title('Confusion Matrix')\n",
    "plt.show()\n",
    "\n",
    "report_test_set_clean_df, preprocessed_test_set_clean_structure\n"
   ]
  },
  {
   "cell_type": "code",
   "execution_count": null,
   "metadata": {},
   "outputs": [],
   "source": []
  },
  {
   "cell_type": "code",
   "execution_count": null,
   "metadata": {},
   "outputs": [],
   "source": []
  }
 ],
 "metadata": {
  "kernelspec": {
   "display_name": "base",
   "language": "python",
   "name": "python3"
  },
  "language_info": {
   "codemirror_mode": {
    "name": "ipython",
    "version": 3
   },
   "file_extension": ".py",
   "mimetype": "text/x-python",
   "name": "python",
   "nbconvert_exporter": "python",
   "pygments_lexer": "ipython3",
   "version": "3.12.7"
  }
 },
 "nbformat": 4,
 "nbformat_minor": 4
}
